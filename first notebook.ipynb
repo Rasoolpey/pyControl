{
 "cells": [
  {
   "cell_type": "code",
   "execution_count": null,
   "metadata": {},
   "outputs": [],
   "source": [
    "import matplotlib.pyplot as plt\n",
    "import numpy as np\n",
    "\n",
    "\n",
    "fig = plt.figure(1, figsize=(5,5))\n",
    "\n",
    "delta = 0.025\n",
    "x,y = np.meshgrid(np.arange(-4,4.1,delta),np.arange(-4,4.1,delta))\n",
    "print(x,y)\n",
    "\n",
    "f1 = x**2 + y-5\n",
    "f2 = x**2 + y**2 - 7\n",
    "\n",
    "plt.contour(x,y,f1,[0])\n",
    "plt.contour(x,y,f2,[0])\n",
    "plt.show()"
   ]
  },
  {
   "cell_type": "code",
   "execution_count": 6,
   "metadata": {},
   "outputs": [
    {
     "name": "stdout",
     "output_type": "stream",
     "text": [
      "[ 2.44948974 -1.        ]\n"
     ]
    }
   ],
   "source": [
    "from scipy.optimize import fsolve\n",
    "def my_function(z):\n",
    "    x=z[0]\n",
    "    y=z[1]\n",
    "    F=np.empty(2)\n",
    "    F[0]=x**2+y-5\n",
    "    F[1]=x**2+y**2-7\n",
    "    return F\n",
    "\n",
    "zGuess=np.array([3,-3])\n",
    "z=fsolve(my_function,zGuess)\n",
    "print(z)"
   ]
  },
  {
   "cell_type": "code",
   "execution_count": 26,
   "metadata": {},
   "outputs": [
    {
     "name": "stdout",
     "output_type": "stream",
     "text": [
      "[1.7320508074] [2.0000000007]\n"
     ]
    }
   ],
   "source": [
    "from gekko import GEKKO\n",
    "m=GEKKO()\n",
    "x,y = [m.Var(1) for i in range(2)]          \n",
    "m.Equations([x**2+y==5,x**2+y**2==7])\n",
    "m.solve(disp=False)\n",
    "print(x.value,y.value)"
   ]
  },
  {
   "cell_type": "code",
   "execution_count": 2,
   "metadata": {},
   "outputs": [
    {
     "name": "stdout",
     "output_type": "stream",
     "text": [
      "[(-sqrt(3), 2), (sqrt(3), 2), (-sqrt(6), -1), (sqrt(6), -1)]\n"
     ]
    }
   ],
   "source": [
    "import sympy as sym\n",
    "sym.init_printing()\n",
    "x,y = sym.symbols(['x','y'])\n",
    "f = sym.Eq(x**2+y,5)\n",
    "g = sym.Eq(x**2+y**2,7)\n",
    "print(sym.solve([f,g],(x,y)))"
   ]
  },
  {
   "cell_type": "code",
   "execution_count": 4,
   "metadata": {},
   "outputs": [
    {
     "ename": "SyntaxError",
     "evalue": "invalid syntax. Maybe you meant '==' or ':=' instead of '='? (213602459.py, line 16)",
     "output_type": "error",
     "traceback": [
      "\u001b[1;36m  Cell \u001b[1;32mIn[4], line 16\u001b[1;36m\u001b[0m\n\u001b[1;33m    x1,x2,x3,x4,x5,x6 = sp.symbols(['x1','x2','x3','x4','x5','x6'],[cls=Function,cls=Function,cls=Function,cls=Function,cls=Function,cls=Function])\u001b[0m\n\u001b[1;37m                                                                    ^\u001b[0m\n\u001b[1;31mSyntaxError\u001b[0m\u001b[1;31m:\u001b[0m invalid syntax. Maybe you meant '==' or ':=' instead of '='?\n"
     ]
    }
   ],
   "source": [
    "import sympy as sp\n",
    "sp.init_printing()\n",
    "# initialization\n",
    "Io=1e-9; Rp=1e6; Iph=9; a=0.555; u1=0.7; u2=0.42; E=48; r=1; R1=144; R2=9 \n",
    "RL=10; u3=0.83; C1=200e-6; C2=2000e-6; C3=300e-6; L1=5e-3; L2=5e-3; L3=5e-3\n",
    "\n",
    "# equations\n",
    "#dxp1=1/L1*(xp2-xp4*(1-u1));\n",
    "#dxp2=1/C1*(Iph-Io*(exp(a*xp2)-1)-((xp2)/Rp)-xp1);\n",
    "#dxp3=1/L2*(E-r*xp3-xp4*u2);\n",
    "#dxp4=1/C2*((-xp4/R1)+xp1*(1-u1)+xp3*u2-xp5*(1-u3));\n",
    "#dxp5=1/L3*(-xp6+xp4*(1-u3)-RL*xp5*(1-u3)^2);\n",
    "#dxp6=1/C3*(xp5-(xp6/R2));\n",
    "\n",
    "# writring the equations \n",
    "x1 = sp.symbols('x1',cls=function)\n",
    "x2 = sp.symbols('x2',cls=function)\n",
    "x3 = sp.symbols('x3',cls=function)\n",
    "x4 = sp.symbols('x4',cls=function)\n",
    "x5 = sp.symbols('x5',cls=function)\n",
    "x6 = sp.symbols('x6',cls=function)\n",
    "# eq1=sp.Eq()\n",
    "# x1dot = sp.Eq(x**2+y,5)\n",
    "# x2dot = sp.Eq(x**2+y,5)\n",
    "# x3dot = sp.Eq(x**2+y,5)\n",
    "# x4dot = sp.Eq(x**2+y,5)\n",
    "# x5dot = sp.Eq(x**2+y,5)\n",
    "# x6dot = sp.Eq(x**2+y,5)\n",
    "# print(sp.solve([f,g],(x,y)))"
   ]
  },
  {
   "cell_type": "code",
   "execution_count": null,
   "metadata": {},
   "outputs": [],
   "source": []
  }
 ],
 "metadata": {
  "kernelspec": {
   "display_name": ".venv",
   "language": "python",
   "name": "python3"
  },
  "language_info": {
   "codemirror_mode": {
    "name": "ipython",
    "version": 3
   },
   "file_extension": ".py",
   "mimetype": "text/x-python",
   "name": "python",
   "nbconvert_exporter": "python",
   "pygments_lexer": "ipython3",
   "version": "3.11.6"
  }
 },
 "nbformat": 4,
 "nbformat_minor": 2
}
