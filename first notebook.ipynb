{
 "cells": [
  {
   "cell_type": "code",
   "execution_count": null,
   "metadata": {},
   "outputs": [],
   "source": [
    "import matplotlib.pyplot as plt\n",
    "import numpy as np\n",
    "\n",
    "\n",
    "fig = plt.figure(1, figsize=(5,5))\n",
    "\n",
    "delta = 0.025\n",
    "x,y = np.meshgrid(np.arange(-4,4.1,delta),np.arange(-4,4.1,delta))\n",
    "print(x,y)\n",
    "\n",
    "f1 = x**2 + y-5\n",
    "f2 = x**2 + y**2 - 7\n",
    "\n",
    "plt.contour(x,y,f1,[0])\n",
    "plt.contour(x,y,f2,[0])\n",
    "plt.show()"
   ]
  },
  {
   "cell_type": "code",
   "execution_count": 6,
   "metadata": {},
   "outputs": [
    {
     "name": "stdout",
     "output_type": "stream",
     "text": [
      "[ 2.44948974 -1.        ]\n"
     ]
    }
   ],
   "source": [
    "from scipy.optimize import fsolve\n",
    "def my_function(z):\n",
    "    x=z[0]\n",
    "    y=z[1]\n",
    "    F=np.empty(2)\n",
    "    F[0]=x**2+y-5\n",
    "    F[1]=x**2+y**2-7\n",
    "    return F\n",
    "\n",
    "zGuess=np.array([3,-3])\n",
    "z=fsolve(my_function,zGuess)\n",
    "print(z)"
   ]
  },
  {
   "cell_type": "code",
   "execution_count": 10,
   "metadata": {},
   "outputs": [
    {
     "ename": "SyntaxError",
     "evalue": "invalid syntax (340057429.py, line 3)",
     "output_type": "error",
     "traceback": [
      "\u001b[1;36m  Cell \u001b[1;32mIn[10], line 3\u001b[1;36m\u001b[0m\n\u001b[1;33m    x,y = [m.Var(1).for i in range(2)]\u001b[0m\n\u001b[1;37m                    ^\u001b[0m\n\u001b[1;31mSyntaxError\u001b[0m\u001b[1;31m:\u001b[0m invalid syntax\n"
     ]
    }
   ],
   "source": [
    "from gekko import GEKKO\n",
    "m=Gekko()\n",
    "x,y = [m.Var(1).for i in range(2)]\n",
    "m.Equations([x**2+y==5,x**2+y**2==7])\n",
    "m.solve(disp=False)\n",
    "print(x.value,y.value)"
   ]
  }
 ],
 "metadata": {
  "kernelspec": {
   "display_name": ".venv",
   "language": "python",
   "name": "python3"
  },
  "language_info": {
   "codemirror_mode": {
    "name": "ipython",
    "version": 3
   },
   "file_extension": ".py",
   "mimetype": "text/x-python",
   "name": "python",
   "nbconvert_exporter": "python",
   "pygments_lexer": "ipython3",
   "version": "3.11.6"
  }
 },
 "nbformat": 4,
 "nbformat_minor": 2
}
